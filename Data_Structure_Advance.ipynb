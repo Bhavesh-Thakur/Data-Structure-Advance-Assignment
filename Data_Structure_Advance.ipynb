{
  "nbformat": 4,
  "nbformat_minor": 0,
  "metadata": {
    "colab": {
      "provenance": []
    },
    "kernelspec": {
      "name": "python3",
      "display_name": "Python 3"
    },
    "language_info": {
      "name": "python"
    }
  },
  "cells": [
    {
      "cell_type": "markdown",
      "source": [
        "# 1. Write a code to reverse a string."
      ],
      "metadata": {
        "id": "ztFTXGMglf71"
      }
    },
    {
      "cell_type": "code",
      "execution_count": null,
      "metadata": {
        "colab": {
          "base_uri": "https://localhost:8080/"
        },
        "id": "eTGNCwjklYfT",
        "outputId": "28a0c818-be2e-434d-966a-022971f840b3"
      },
      "outputs": [
        {
          "output_type": "stream",
          "name": "stdout",
          "text": [
            "!dlroW ,olleH\n"
          ]
        }
      ],
      "source": [
        "def reverse_string(s):\n",
        "    return s[::-1]\n",
        "\n",
        "s = \"Hello, World!\"\n",
        "reversed_string = reverse_string(s)\n",
        "print(reversed_string)\n"
      ]
    },
    {
      "cell_type": "markdown",
      "source": [
        "# 2. Write a code to count the number of vowels in a string"
      ],
      "metadata": {
        "id": "9IUBGPq8mriO"
      }
    },
    {
      "cell_type": "code",
      "source": [
        "def count_vowels(s):\n",
        "    vowels = 'aeiouAEIOU'\n",
        "    count = sum(1 for char in s if char in vowels)\n",
        "    return count\n",
        "\n",
        "s = \"Hello, World!\"\n",
        "vowel_count = count_vowels(s)\n",
        "print(vowel_count)\n"
      ],
      "metadata": {
        "colab": {
          "base_uri": "https://localhost:8080/"
        },
        "id": "0PtoGMsUmVRM",
        "outputId": "bad943f9-b256-4479-f596-b7430b442728"
      },
      "execution_count": null,
      "outputs": [
        {
          "output_type": "stream",
          "name": "stdout",
          "text": [
            "3\n"
          ]
        }
      ]
    },
    {
      "cell_type": "markdown",
      "source": [
        "# 3.  Write a code to check if a given string is a palindrome or not."
      ],
      "metadata": {
        "id": "PckEJZ0tnp1C"
      }
    },
    {
      "cell_type": "code",
      "source": [
        "def palindrome(s):\n",
        "    return s == s[::-1]\n",
        "\n",
        "s = \"madam\"\n",
        "result = palindrome(s)\n",
        "print(result)\n"
      ],
      "metadata": {
        "colab": {
          "base_uri": "https://localhost:8080/"
        },
        "id": "ymihVa36n2Sk",
        "outputId": "286eb99f-da37-471f-e00a-f9086337ad9f"
      },
      "execution_count": null,
      "outputs": [
        {
          "output_type": "stream",
          "name": "stdout",
          "text": [
            "True\n"
          ]
        }
      ]
    },
    {
      "cell_type": "markdown",
      "source": [
        "# 4.  Write a code to check if two given strings are anagrams of each other."
      ],
      "metadata": {
        "id": "sOO_Kff-no4m"
      }
    },
    {
      "cell_type": "code",
      "source": [
        "def anagrams(s1, s2):\n",
        "    return sorted(s1) == sorted(s2)\n",
        "\n",
        "s1 = \"listen\"\n",
        "s2 = \"silent\"\n",
        "result = anagrams(s1, s2)\n",
        "print(result)"
      ],
      "metadata": {
        "colab": {
          "base_uri": "https://localhost:8080/"
        },
        "id": "mOeM8E_-o4oq",
        "outputId": "72c8b2c2-53e8-4901-b364-b107ac86bae7"
      },
      "execution_count": null,
      "outputs": [
        {
          "output_type": "stream",
          "name": "stdout",
          "text": [
            "True\n"
          ]
        }
      ]
    },
    {
      "cell_type": "markdown",
      "source": [
        "# 5. Write a code to find all occurrences of a given substring within another string."
      ],
      "metadata": {
        "id": "KBUL97rfpefo"
      }
    },
    {
      "cell_type": "code",
      "source": [
        "def find_occurrences(s, substring):\n",
        "    occurrences = []\n",
        "    start = 0\n",
        "\n",
        "    while True:\n",
        "        start = s.find(substring, start)\n",
        "\n",
        "        if start == -1:\n",
        "            break\n",
        "\n",
        "        occurrences.append(start)\n",
        "        start += len(substring)\n",
        "\n",
        "    return occurrences\n",
        "\n",
        "s = \"Rohan is playing cricket with ball , but he lost his ball.\"\n",
        "substring= \"ball\"\n",
        "positions = find_occurrences(s, substring)\n",
        "print(positions)\n"
      ],
      "metadata": {
        "colab": {
          "base_uri": "https://localhost:8080/"
        },
        "id": "Lj7dZsR3pbj9",
        "outputId": "60c142e8-fe87-4bf7-b71b-fd58aa70f5b3"
      },
      "execution_count": null,
      "outputs": [
        {
          "output_type": "stream",
          "name": "stdout",
          "text": [
            "[30, 53]\n"
          ]
        }
      ]
    },
    {
      "cell_type": "markdown",
      "source": [
        "# 6. Write a code to perform basic string compression using the counts of repeated characters"
      ],
      "metadata": {
        "id": "ZRzwcMMdtLXm"
      }
    },
    {
      "cell_type": "code",
      "source": [
        "def compress_string(s):\n",
        "    if not s:\n",
        "        return \"\"\n",
        "\n",
        "    compressed = []\n",
        "    count = 1\n",
        "\n",
        "    for i in range(1, len(s)):\n",
        "        if s[i] == s[i - 1]:\n",
        "            count += 1\n",
        "        else:\n",
        "            compressed.append(s[i - 1] + str(count))\n",
        "            count = 1\n",
        "\n",
        "    compressed.append(s[-1] + str(count))\n",
        "\n",
        "    compressed_string = ''.join(compressed)\n",
        "    return compressed_string if len(compressed_string) < len(s) else s\n",
        "\n",
        "\n",
        "original_string = \"aaabbbcccdde\"\n",
        "compressed_string = compress_string(original_string)\n",
        "print(compressed_string)\n"
      ],
      "metadata": {
        "colab": {
          "base_uri": "https://localhost:8080/"
        },
        "id": "nAm3zdvjsHWh",
        "outputId": "adc61248-6963-48c8-d3c7-efc014cbc5b1"
      },
      "execution_count": null,
      "outputs": [
        {
          "output_type": "stream",
          "name": "stdout",
          "text": [
            "a3b3c3d2e1\n"
          ]
        }
      ]
    },
    {
      "cell_type": "markdown",
      "source": [
        "# 7. Write a code to determine if a string has all unique characters."
      ],
      "metadata": {
        "id": "0ZIsg0w2v3mG"
      }
    },
    {
      "cell_type": "code",
      "source": [
        "def unique_char(s):\n",
        "    return len(s) == len(set(s))\n",
        "\n",
        "string1 = \"abcdef\"\n",
        "string2 = \"aabbcc\"\n",
        "print(unique_char(string1))\n",
        "print(unique_char(string2))\n"
      ],
      "metadata": {
        "colab": {
          "base_uri": "https://localhost:8080/"
        },
        "id": "-LqWj1P2v18f",
        "outputId": "047eaf3b-283f-4050-ebc4-ab5a7d84182b"
      },
      "execution_count": null,
      "outputs": [
        {
          "output_type": "stream",
          "name": "stdout",
          "text": [
            "True\n",
            "False\n"
          ]
        }
      ]
    },
    {
      "cell_type": "markdown",
      "source": [
        "# 8. Write a code to convert a given string to uppercase or lowercase."
      ],
      "metadata": {
        "id": "KMR9gT_dw5Zj"
      }
    },
    {
      "cell_type": "code",
      "source": [
        "def convert_case(s, to_upper=True):\n",
        "    if to_upper:\n",
        "        return s.upper()\n",
        "    else:\n",
        "        return s.lower()\n",
        "\n",
        "s = \"Hello, World!\"\n",
        "\n",
        "\n",
        "upper_case_string = convert_case(s, to_upper=True)   # Convert to uppercase\n",
        "print(upper_case_string)\n",
        "\n",
        "lower_case_string = convert_case(s, to_upper=False)  # Convert to lowercase\n",
        "print(lower_case_string)\n"
      ],
      "metadata": {
        "colab": {
          "base_uri": "https://localhost:8080/"
        },
        "id": "pQdEHXXOwf76",
        "outputId": "d6610a10-b17a-4c33-b27e-8a24358fc0da"
      },
      "execution_count": null,
      "outputs": [
        {
          "output_type": "stream",
          "name": "stdout",
          "text": [
            "HELLO, WORLD!\n",
            "hello, world!\n"
          ]
        }
      ]
    },
    {
      "cell_type": "markdown",
      "source": [
        "# 9. Write a code to count the number of words in a string."
      ],
      "metadata": {
        "id": "6GB3b1hmxqpm"
      }
    },
    {
      "cell_type": "code",
      "source": [
        "def count_words(s):\n",
        "\n",
        "    words = s.split() # split the extra whitespaces\n",
        "    return len(words)\n",
        "\n",
        "\n",
        "sentence = \"Hello, how are you doing today?\"\n",
        "word_count = count_words(sentence)\n",
        "print(word_count)\n"
      ],
      "metadata": {
        "colab": {
          "base_uri": "https://localhost:8080/"
        },
        "id": "6zB2TvJuxUIA",
        "outputId": "077eefae-e129-4714-c12f-95438fc2e7ff"
      },
      "execution_count": null,
      "outputs": [
        {
          "output_type": "stream",
          "name": "stdout",
          "text": [
            "6\n"
          ]
        }
      ]
    },
    {
      "cell_type": "markdown",
      "source": [
        "# 10. Write a code to concatenate two strings without using the + operator."
      ],
      "metadata": {
        "id": "Jd2cS8cKylyz"
      }
    },
    {
      "cell_type": "code",
      "source": [
        "def concat_strings(s1, s2):\n",
        "    return f\"{s1} {s2}\"\n",
        "\n",
        "str1 = \"Hello, \"\n",
        "str2 = \"World!\"\n",
        "result = concat_strings(str1, str2)\n",
        "print(result)"
      ],
      "metadata": {
        "colab": {
          "base_uri": "https://localhost:8080/"
        },
        "id": "4yZNJCPqyezu",
        "outputId": "6f82f8b5-fcff-404d-f33c-f72544233e38"
      },
      "execution_count": null,
      "outputs": [
        {
          "output_type": "stream",
          "name": "stdout",
          "text": [
            "Hello,  World!\n"
          ]
        }
      ]
    },
    {
      "cell_type": "markdown",
      "source": [
        "# 11. Write a code to remove all occurrences of a specific element from a list."
      ],
      "metadata": {
        "id": "io1q7G3Gzbvq"
      }
    },
    {
      "cell_type": "code",
      "source": [
        "def remove_occurrences(lst, element):\n",
        "    while element in lst:\n",
        "        lst.remove(element)\n",
        "    return lst\n",
        "\n",
        "list = [1, 2, 3, 4,  5, 3]\n",
        "element_to_remove = 3\n",
        "new_list = remove_occurrences(list, element_to_remove)\n",
        "print(new_list)"
      ],
      "metadata": {
        "colab": {
          "base_uri": "https://localhost:8080/"
        },
        "id": "MyB03S5PzMjV",
        "outputId": "ae625b1d-36c4-4cb5-fc17-29372522c571"
      },
      "execution_count": null,
      "outputs": [
        {
          "output_type": "stream",
          "name": "stdout",
          "text": [
            "[1, 2, 4, 5]\n"
          ]
        }
      ]
    },
    {
      "cell_type": "markdown",
      "source": [
        "# 12. Implement a code to find the second largest number in a given list of integers"
      ],
      "metadata": {
        "id": "wrazzr6W0m3o"
      }
    },
    {
      "cell_type": "code",
      "source": [
        "def find_second_largest(lst):\n",
        "    if len(lst) < 2:\n",
        "        raise ValueError(\"List must contain at least two distinct elements.\")\n",
        "\n",
        "\n",
        "    largest = max(lst)\n",
        "\n",
        "\n",
        "    lst = [x for x in lst if x != largest]  # remove all the largest number\n",
        "\n",
        "    # Find the second largest number\n",
        "    if len(lst) == 0:\n",
        "        raise ValueError(\"List must contain at least two distinct elements.\")\n",
        "\n",
        "    second_largest = max(lst)\n",
        "    return second_largest\n",
        "\n",
        "\n",
        "lst = [10, 20, 4, 45, 99, 99]\n",
        "second_largest = find_second_largest(lst)\n",
        "print(second_largest)"
      ],
      "metadata": {
        "colab": {
          "base_uri": "https://localhost:8080/"
        },
        "id": "aGHOubB40Fhf",
        "outputId": "b00476cf-4882-40c6-d82b-35253adf1b3a"
      },
      "execution_count": null,
      "outputs": [
        {
          "output_type": "stream",
          "name": "stdout",
          "text": [
            "45\n"
          ]
        }
      ]
    },
    {
      "cell_type": "markdown",
      "source": [
        "# 13. Create a code to count the occurrences of each element in a list and return a dictionary with elements as keys and their counts as values."
      ],
      "metadata": {
        "id": "EyTT_mrl2e9m"
      }
    },
    {
      "cell_type": "code",
      "source": [
        "def count_occurrences(lst):\n",
        "    count_dict = {}\n",
        "    for element in lst:\n",
        "        if element in count_dict:\n",
        "            count_dict[element] += 1\n",
        "        else:\n",
        "            count_dict[element] = 1\n",
        "    return count_dict\n",
        "\n",
        "\n",
        "numbers = [1, 2, 2, 3, 3, 3, 4, 4, 4, 4,4]\n",
        "occurrences = count_occurrences(numbers)\n",
        "print(occurrences)"
      ],
      "metadata": {
        "colab": {
          "base_uri": "https://localhost:8080/"
        },
        "id": "g9NmrCl21xDj",
        "outputId": "99469cb0-a94d-4057-ff05-0e5a56102958"
      },
      "execution_count": null,
      "outputs": [
        {
          "output_type": "stream",
          "name": "stdout",
          "text": [
            "{1: 1, 2: 2, 3: 3, 4: 5}\n"
          ]
        }
      ]
    },
    {
      "cell_type": "markdown",
      "source": [
        "# 14. Write a code to reverse a list in-place without using any built-in reverse functions"
      ],
      "metadata": {
        "id": "6qh_anrL3uTk"
      }
    },
    {
      "cell_type": "code",
      "source": [
        "def reverse_list(lst):\n",
        "    left = 0\n",
        "    right = len(lst) - 1\n",
        "\n",
        "    while left < right:\n",
        "\n",
        "        lst[left], lst[right] = lst[right], lst[left] # Swap the elements at left and right indices\n",
        "\n",
        "        # Move the pointers towards the center\n",
        "        left += 1\n",
        "        right -= 1\n",
        "\n",
        "\n",
        "my_list = [1, 2, 3, 4, 5]\n",
        "reverse_list(my_list)\n",
        "print(my_list)\n"
      ],
      "metadata": {
        "colab": {
          "base_uri": "https://localhost:8080/"
        },
        "id": "gUi0UlL73pKq",
        "outputId": "be5ff7bc-251a-4ead-cfc7-bd7716e2992e"
      },
      "execution_count": null,
      "outputs": [
        {
          "output_type": "stream",
          "name": "stdout",
          "text": [
            "[5, 4, 3, 2, 1]\n"
          ]
        }
      ]
    },
    {
      "cell_type": "markdown",
      "source": [
        "# 15. Implement a code to find and remove duplicates from a list while preserving the original order of elements."
      ],
      "metadata": {
        "id": "N68ieqHF480o"
      }
    },
    {
      "cell_type": "code",
      "source": [
        "def remove_duplicates(lst):\n",
        "    seen = set()\n",
        "    unique_list = []\n",
        "\n",
        "    for element in lst:\n",
        "        if element not in seen:\n",
        "            unique_list.append(element)\n",
        "            seen.add(element)\n",
        "\n",
        "    return unique_list\n",
        "\n",
        "\n",
        "original_list = [1, 2, 2, 3, 4, 4, 5, 6, 1, 7]\n",
        "unique_list = remove_duplicates(original_list)\n",
        "print(unique_list)\n"
      ],
      "metadata": {
        "colab": {
          "base_uri": "https://localhost:8080/"
        },
        "id": "wb4cGrOR43Qf",
        "outputId": "83379555-612c-46bc-a1e2-3239a0456ef7"
      },
      "execution_count": null,
      "outputs": [
        {
          "output_type": "stream",
          "name": "stdout",
          "text": [
            "[1, 2, 3, 4, 5, 6, 7]\n"
          ]
        }
      ]
    },
    {
      "cell_type": "markdown",
      "source": [
        "# 16. Create a code to check if a given list is sorted (either in ascending or descending order) or not."
      ],
      "metadata": {
        "id": "q74EqOSP5qCr"
      }
    },
    {
      "cell_type": "code",
      "source": [
        "def is_sorted(lst):\n",
        "    if not lst or len(lst) == 1:\n",
        "        return True\n",
        "\n",
        "    ascending = all(lst[i] <= lst[i + 1] for i in range(len(lst) - 1))\n",
        "    descending = all(lst[i] >= lst[i + 1] for i in range(len(lst) - 1))\n",
        "\n",
        "    return ascending or descending\n",
        "\n",
        "list1 = [1, 2, 2, 3, 4]\n",
        "list2 = [5, 4, 4, 3, 2, 1]\n",
        "list3 = [1, 3, 2, 4]\n",
        "list4 = []\n",
        "list5 = [7]\n",
        "\n",
        "print(is_sorted(list1))\n",
        "print(is_sorted(list2))\n",
        "print(is_sorted(list3))\n",
        "print(is_sorted(list4))\n",
        "print(is_sorted(list5))\n"
      ],
      "metadata": {
        "colab": {
          "base_uri": "https://localhost:8080/"
        },
        "id": "Bf3g8wJl5oHI",
        "outputId": "266a5b24-054e-4164-f841-2c85f6fff25f"
      },
      "execution_count": null,
      "outputs": [
        {
          "output_type": "stream",
          "name": "stdout",
          "text": [
            "True\n",
            "True\n",
            "False\n",
            "True\n",
            "True\n"
          ]
        }
      ]
    },
    {
      "cell_type": "markdown",
      "source": [
        "# 17.Write a code to merge two sorted lists into a single sorted list."
      ],
      "metadata": {
        "id": "US5c_mNE7zT-"
      }
    },
    {
      "cell_type": "code",
      "source": [
        "def merge_sorted_lists(list1, list2):\n",
        "    merged_list = []\n",
        "    i, j = 0, 0\n",
        "\n",
        "\n",
        "    while i < len(list1) and j < len(list2): # Iterate through both lists and compare elements\n",
        "        if list1[i] <= list2[j]:\n",
        "            merged_list.append(list1[i])\n",
        "            i += 1\n",
        "        else:\n",
        "            merged_list.append(list2[j])\n",
        "            j += 1\n",
        "\n",
        "\n",
        "    while i < len(list1):                 # Append any remaining elements from list1\n",
        "        merged_list.append(list1[i])\n",
        "        i += 1\n",
        "\n",
        "    while j < len(list2):                 # Append any remaining elements from list2\n",
        "        merged_list.append(list2[j])\n",
        "        j += 1\n",
        "\n",
        "    return merged_list\n",
        "\n",
        "\n",
        "list1 = [1, 3, 5, 7]\n",
        "list2 = [2, 4, 6, 8]\n",
        "merged = merge_sorted_lists(list1, list2)\n",
        "print(merged)"
      ],
      "metadata": {
        "colab": {
          "base_uri": "https://localhost:8080/"
        },
        "id": "Ttjf9Wi57xWU",
        "outputId": "18455611-546d-47cc-ddac-5540671dee23"
      },
      "execution_count": null,
      "outputs": [
        {
          "output_type": "stream",
          "name": "stdout",
          "text": [
            "[1, 2, 3, 4, 5, 6, 7, 8]\n"
          ]
        }
      ]
    },
    {
      "cell_type": "markdown",
      "source": [
        "# 18. Implement a code to find the intersection of two given lists."
      ],
      "metadata": {
        "id": "6-dIIdJw9M65"
      }
    },
    {
      "cell_type": "code",
      "source": [
        "def intersection_with_duplicates(list1, list2):\n",
        "\n",
        "    set2 = set(list2)\n",
        "    return [item for item in list1 if item in set2]\n",
        "\n",
        "\n",
        "list1 = [1, 2, 2, 3, 4, 5]\n",
        "list2 = [2, 4, 4, 5, 6]\n",
        "intersected_list = intersection_with_duplicates(list1, list2)\n",
        "print(intersected_list)"
      ],
      "metadata": {
        "colab": {
          "base_uri": "https://localhost:8080/"
        },
        "id": "TK1SIqAn87QN",
        "outputId": "b0cce1b5-9a3b-4f79-b92e-1241c9587e76"
      },
      "execution_count": null,
      "outputs": [
        {
          "output_type": "stream",
          "name": "stdout",
          "text": [
            "[2, 2, 4, 5]\n"
          ]
        }
      ]
    },
    {
      "cell_type": "markdown",
      "source": [
        "# 19. Create a code to find the union of two lists without duplicates."
      ],
      "metadata": {
        "id": "oC96El97_2LV"
      }
    },
    {
      "cell_type": "code",
      "source": [
        "list1 = [23, 45, 65, 31, 1, 89]\n",
        "list2 = [67, 89, 23, 45, 8, 90]\n",
        "ans = list1 + [data for data in list2 if data not in list1]\n",
        "\n",
        "print(ans)\n"
      ],
      "metadata": {
        "colab": {
          "base_uri": "https://localhost:8080/"
        },
        "id": "MhmPBBkj9wuD",
        "outputId": "d529738f-34bb-48ba-fb17-1b7ea2d3c8bc"
      },
      "execution_count": null,
      "outputs": [
        {
          "output_type": "stream",
          "name": "stdout",
          "text": [
            "The resultant merged list is:\n",
            "[23, 45, 65, 31, 1, 89, 67, 8, 90]\n"
          ]
        }
      ]
    },
    {
      "cell_type": "markdown",
      "source": [
        "# 20. Write a code to shuffle a given list randomly without using any built-in shuffle functions."
      ],
      "metadata": {
        "id": "wj__zt-wBr0M"
      }
    },
    {
      "cell_type": "code",
      "source": [
        "import random\n",
        "\n",
        "def shuffle(lst):\n",
        "    n = len(lst)\n",
        "    for i in range(n - 1, 0, -1):\n",
        "\n",
        "        j = random.randint(0, i)   # Pick a random index from 0 to i\n",
        "\n",
        "\n",
        "        lst[i], lst[j] = lst[j], lst[i]\n",
        "\n",
        "# Example usage\n",
        "my_list = [1, 2, 3, 4, 5]\n",
        "\n",
        "shuffle(my_list)\n",
        "print(my_list)"
      ],
      "metadata": {
        "colab": {
          "base_uri": "https://localhost:8080/"
        },
        "id": "-Ge7HEJ8ADNw",
        "outputId": "3bcd7451-b24e-4292-fdd2-4d14d187d261"
      },
      "execution_count": null,
      "outputs": [
        {
          "output_type": "stream",
          "name": "stdout",
          "text": [
            "[5, 3, 1, 4, 2]\n"
          ]
        }
      ]
    },
    {
      "cell_type": "markdown",
      "source": [
        "# 21.  Write a code that takes two tuples as input and returns a new tuple containing elements that are common to both input tuples"
      ],
      "metadata": {
        "id": "ClVSVuQ8CnXb"
      }
    },
    {
      "cell_type": "code",
      "source": [
        "def common_elements(tuple1, tuple2):\n",
        "\n",
        "    set1 = set(tuple1)\n",
        "    set2 = set(tuple2)\n",
        "\n",
        "    common_set = set1 & set2\n",
        "\n",
        "    return tuple(common_set)\n",
        "\n",
        "tuple1 = (1, 2, 3, 4, 5)\n",
        "tuple2 = (4, 5, 6, 7, 8)\n",
        "result = common_elements(tuple1, tuple2)\n",
        "print(result)"
      ],
      "metadata": {
        "colab": {
          "base_uri": "https://localhost:8080/"
        },
        "id": "L0OlMO6NCfaH",
        "outputId": "f36168bc-f515-4fd1-de26-2fc022b03aaf"
      },
      "execution_count": null,
      "outputs": [
        {
          "output_type": "stream",
          "name": "stdout",
          "text": [
            "(4, 5)\n"
          ]
        }
      ]
    },
    {
      "cell_type": "markdown",
      "source": [
        "# 22. Create a code that prompts the user to enter two sets of integers separated by commas. Then, print the intersection of these two sets."
      ],
      "metadata": {
        "id": "99KyWEk1DARq"
      }
    },
    {
      "cell_type": "code",
      "source": [
        "def get_set_from_input(prompt):\n",
        "\n",
        "    input_str = input(prompt).strip()\n",
        "\n",
        "    # Convert the comma-separated string to a list of integers\n",
        "    num_list = [int(num) for num in input_str.split(',')]\n",
        "\n",
        "    return set(num_list)\n",
        "\n",
        "def main():\n",
        "\n",
        "    set1 = get_set_from_input(\"Enter the first set of integers (separated by commas): \")\n",
        "    set2 = get_set_from_input(\"Enter the second set of integers (separated by commas): \")\n",
        "\n",
        "    intersection = set1 & set2\n",
        "\n",
        "    print(\"Intersection:\", intersection)\n",
        "\n",
        "if __name__ == \"__main__\":\n",
        "    main()\n",
        "\n"
      ],
      "metadata": {
        "colab": {
          "base_uri": "https://localhost:8080/"
        },
        "id": "0CKbp0oSC20D",
        "outputId": "ce81b8ee-0645-401e-d460-73cda72d13e8"
      },
      "execution_count": null,
      "outputs": [
        {
          "output_type": "stream",
          "name": "stdout",
          "text": [
            "Enter the first set of integers (separated by commas): 1,2,3,4\n",
            "Enter the second set of integers (separated by commas): 4,3,5,7\n",
            "Intersection: {3, 4}\n"
          ]
        }
      ]
    },
    {
      "cell_type": "markdown",
      "source": [
        "# 23.  Write a code to concatenate two tuples. The function should take two tuples as input and return a new tuple containing elements from both input tuples."
      ],
      "metadata": {
        "id": "_UZk0QctE9Oz"
      }
    },
    {
      "cell_type": "code",
      "source": [
        "def concatenate_tuples(tuple1, tuple2):\n",
        "\n",
        "    result_tuple = tuple1 + tuple2\n",
        "    return result_tuple\n",
        "\n",
        "\n",
        "tuple1 = (1, 2, 3)\n",
        "tuple2 = (4, 5, 6)\n",
        "result = concatenate_tuples(tuple1, tuple2)\n",
        "print(result)\n"
      ],
      "metadata": {
        "colab": {
          "base_uri": "https://localhost:8080/"
        },
        "id": "ykOjGMTzFLjw",
        "outputId": "5ac8c5bd-c4a3-48f9-bb43-64671f1cb21e"
      },
      "execution_count": null,
      "outputs": [
        {
          "output_type": "stream",
          "name": "stdout",
          "text": [
            "(1, 2, 3, 4, 5, 6)\n"
          ]
        }
      ]
    },
    {
      "cell_type": "markdown",
      "source": [
        "# 24. Develop a code that prompts the user to input two sets of strings. Then, print the elements that are present in the first set but not in the second set."
      ],
      "metadata": {
        "id": "qNWxHjT2bWv5"
      }
    },
    {
      "cell_type": "code",
      "source": [
        "set1 = set(input(\"Enter the first set of strings (separated by spaces): \").split())\n",
        "\n",
        "set2 = set(input(\"Enter the second set of strings (separated by spaces): \").split())\n",
        "\n",
        "print(\"Elements present in the first set but not in the second set:\")\n",
        "print(set1 - set2)\n"
      ],
      "metadata": {
        "id": "__8DRWtWFP3r",
        "colab": {
          "base_uri": "https://localhost:8080/"
        },
        "outputId": "1a237429-82de-4e43-9fa4-177ddd6ce7f3"
      },
      "execution_count": 3,
      "outputs": [
        {
          "output_type": "stream",
          "name": "stdout",
          "text": [
            "Enter the first set of strings (separated by spaces): 'ram', 'shyam', 'mohan'\n",
            "Enter the second set of strings (separated by spaces): 'ram' , 'shyam' , 'rohit'\n",
            "Elements present in the first set but not in the second set:\n",
            "{\"'mohan'\", \"'ram',\", \"'shyam',\"}\n"
          ]
        }
      ]
    },
    {
      "cell_type": "markdown",
      "source": [
        "# 25. Create a code that takes a tuple and two integers as input. The function should return a new tuple containing elements from the original tuple within the specified range of indices."
      ],
      "metadata": {
        "id": "W9E0CPhrdp9O"
      }
    },
    {
      "cell_type": "code",
      "source": [
        "def get_tuple_range(original_tuple, start_idx, end_idx):\n",
        "\n",
        "    return original_tuple[start_idx:end_idx]\n",
        "\n",
        "\n",
        "original_tuple = tuple(input(\"Enter the elements of the tuple : \").split())\n",
        "\n",
        "start_idx = int(input(\"Enter the start index: \"))\n",
        "end_idx = int(input(\"Enter the end index: \"))\n",
        "\n",
        "result_tuple = get_tuple_range(original_tuple, start_idx, end_idx)\n",
        "\n",
        "print(\"New tuple containing elements within the specified range:\")\n",
        "print(result_tuple)\n"
      ],
      "metadata": {
        "colab": {
          "base_uri": "https://localhost:8080/"
        },
        "id": "8qAb37c5ch_F",
        "outputId": "fbc2f3c1-25e9-486e-a3ff-d1047766965a"
      },
      "execution_count": 4,
      "outputs": [
        {
          "output_type": "stream",
          "name": "stdout",
          "text": [
            "Enter the elements of the tuple : a b c d e f \n",
            "Enter the start index: 2\n",
            "Enter the end index: 7\n",
            "New tuple containing elements within the specified range:\n",
            "('c', 'd', 'e', 'f')\n"
          ]
        }
      ]
    },
    {
      "cell_type": "markdown",
      "source": [
        "# 26. Write a code that prompts the user to input two sets of characters. Then, print the union of these two sets"
      ],
      "metadata": {
        "id": "bsT4-i1OfMDq"
      }
    },
    {
      "cell_type": "code",
      "source": [
        "def get_input_set(prompt):\n",
        "    input_str = input(prompt)\n",
        "    return set(input_str)\n",
        "\n",
        "set1 = get_input_set(\"Enter the first set of characters: \")\n",
        "\n",
        "set2 = get_input_set(\"Enter the second set of characters: \")\n",
        "\n",
        "union_set = set1 | set2\n",
        "\n",
        "print(\"Union of the two sets of characters:\")\n",
        "print(union_set)\n"
      ],
      "metadata": {
        "colab": {
          "base_uri": "https://localhost:8080/"
        },
        "id": "2EsByFBCfCri",
        "outputId": "1d0d73fc-d903-4cc9-8387-d1796d980b2e"
      },
      "execution_count": 5,
      "outputs": [
        {
          "output_type": "stream",
          "name": "stdout",
          "text": [
            "Enter the first set of characters: a b c d f g\n",
            "Enter the second set of characters: b c  d h i\n",
            "Union of the two sets of characters:\n",
            "{'f', 'h', 'g', 'b', 'i', 'a', 'd', ' ', 'c'}\n"
          ]
        }
      ]
    },
    {
      "cell_type": "markdown",
      "source": [
        "# 27.  Develop a code that takes a tuple of integers as input. The function should return the maximum and minimum values from the tuple using tuple unpacking"
      ],
      "metadata": {
        "id": "HoTHghGfhYLK"
      }
    },
    {
      "cell_type": "code",
      "source": [
        "def get_max_min_values(t):\n",
        "    max_val = max(t)\n",
        "    min_val = min(t)\n",
        "    return max_val, min_val\n",
        "\n",
        "input_tuple = tuple(map(int, input(\"Enter the elements of the tuple (separated by spaces): \").split()))\n",
        "\n",
        "max_value, min_value = get_max_min_values(input_tuple)\n",
        "\n",
        "print(\"Maximum value:\", max_value)\n",
        "print(\"Minimum value:\", min_value)\n"
      ],
      "metadata": {
        "colab": {
          "base_uri": "https://localhost:8080/"
        },
        "id": "_qDgp4yahEul",
        "outputId": "f2f6b60b-80b5-4716-d266-96cbb3395898"
      },
      "execution_count": 6,
      "outputs": [
        {
          "output_type": "stream",
          "name": "stdout",
          "text": [
            "Enter the elements of the tuple (separated by spaces): 2 3 4 5 6 788 \n",
            "Maximum value: 788\n",
            "Minimum value: 2\n"
          ]
        }
      ]
    },
    {
      "cell_type": "markdown",
      "source": [
        "# 28.  Create a code that defines two sets of integers. Then, print the union, intersection, and difference of these two sets"
      ],
      "metadata": {
        "id": "-svcyF8SilWT"
      }
    },
    {
      "cell_type": "code",
      "source": [
        "set1 = {1, 2, 3, 4, 5}\n",
        "set2 = {4, 5, 6, 7, 8}\n",
        "\n",
        "union_set = set1 | set2\n",
        "\n",
        "intersection_set = set1 & set2\n",
        "\n",
        "difference_set = set1 - set2\n",
        "\n",
        "print(\"Union of the two sets:\")\n",
        "print(union_set)\n",
        "\n",
        "print(\"Intersection of the two sets:\")\n",
        "print(intersection_set)\n",
        "\n",
        "print(\"Difference of the two sets (set1 - set2):\")\n",
        "print(difference_set)\n"
      ],
      "metadata": {
        "colab": {
          "base_uri": "https://localhost:8080/"
        },
        "id": "xNMiYteaidIl",
        "outputId": "7d1d09dc-3da2-43bf-bb5d-454446f8eb7a"
      },
      "execution_count": 7,
      "outputs": [
        {
          "output_type": "stream",
          "name": "stdout",
          "text": [
            "Union of the two sets:\n",
            "{1, 2, 3, 4, 5, 6, 7, 8}\n",
            "Intersection of the two sets:\n",
            "{4, 5}\n",
            "Difference of the two sets (set1 - set2):\n",
            "{1, 2, 3}\n"
          ]
        }
      ]
    },
    {
      "cell_type": "markdown",
      "source": [
        "# 29. Write a code that takes a tuple and an element as input. The function should return the count of occurrences of the given element in the tuple"
      ],
      "metadata": {
        "id": "Inro40h0jRnA"
      }
    },
    {
      "cell_type": "code",
      "source": [
        "def count_occurrences(t, element):\n",
        "    return t.count(element)\n",
        "\n",
        "input_tuple = tuple(map(int, input(\"Enter the elements of the tuple (separated by spaces): \").split()))\n",
        "\n",
        "element = int(input(\"Enter the element to count: \"))\n",
        "\n",
        "count = count_occurrences(input_tuple, element)\n",
        "print(f\"The element {element} occurs {count} times in the tuple.\")\n"
      ],
      "metadata": {
        "colab": {
          "base_uri": "https://localhost:8080/"
        },
        "id": "kXdCewB-i8T8",
        "outputId": "3b77b421-9893-42a9-e585-fec429c6dd2b"
      },
      "execution_count": 8,
      "outputs": [
        {
          "output_type": "stream",
          "name": "stdout",
          "text": [
            "Enter the elements of the tuple (separated by spaces): 1 2 3 5 777 8 7 7  9\n",
            "Enter the element to count: 7\n",
            "The element 7 occurs 2 times in the tuple.\n"
          ]
        }
      ]
    },
    {
      "cell_type": "markdown",
      "source": [
        "# 30. Develop a code that prompts the user to input two sets of strings. Then, print the symmetric difference of these two sets"
      ],
      "metadata": {
        "id": "KNCsQnoUkQk2"
      }
    },
    {
      "cell_type": "code",
      "source": [
        "def get_input_set(prompt):\n",
        "    input_str = input(prompt)\n",
        "    return set(input_str.split())\n",
        "\n",
        "set1 = get_input_set(\"Enter the first set of strings (separated by spaces): \")\n",
        "set2 = get_input_set(\"Enter the second set of strings (separated by spaces): \")\n",
        "\n",
        "symmetric_difference = set1 ^ set2\n",
        "\n",
        "print(\"Symmetric difference of the two sets: symmetric_difference \")\n",
        "print(symmetric_difference)\n"
      ],
      "metadata": {
        "colab": {
          "base_uri": "https://localhost:8080/"
        },
        "id": "808D6jfmkIAo",
        "outputId": "873c1a85-c716-4c8c-beb5-e7b33640099a"
      },
      "execution_count": 11,
      "outputs": [
        {
          "output_type": "stream",
          "name": "stdout",
          "text": [
            "Enter the first set of strings (separated by spaces): mango banana apple\n",
            "Enter the second set of strings (separated by spaces): banana guava papaya\n",
            "Symmetric difference of the two sets: symmetric_difference \n",
            "{'papaya', 'guava', 'mango', 'apple'}\n"
          ]
        }
      ]
    },
    {
      "cell_type": "markdown",
      "source": [
        "# 31. Write a code that takes a list of words as input and returns a dictionary where the keys are unique words and the values are the frequencies of those words in the input list"
      ],
      "metadata": {
        "id": "8kTiz8SxloSp"
      }
    },
    {
      "cell_type": "code",
      "source": [
        "def word_frequencies(word_list):\n",
        "    freq_dict = {}\n",
        "    for word in word_list:\n",
        "        if word in freq_dict:\n",
        "            freq_dict[word] += 1\n",
        "        else:\n",
        "            freq_dict[word] = 1\n",
        "    return freq_dict\n",
        "\n",
        "input_list = input(\"Enter a list of words (separated by spaces): \").split()\n",
        "\n",
        "frequency_dict = word_frequencies(input_list)\n",
        "print(\"Word frequencies:\")\n",
        "print(frequency_dict)\n"
      ],
      "metadata": {
        "colab": {
          "base_uri": "https://localhost:8080/"
        },
        "id": "-kxKXjqGk28o",
        "outputId": "0d5552ee-df35-4993-c1b4-669a56d4b8e5"
      },
      "execution_count": 12,
      "outputs": [
        {
          "output_type": "stream",
          "name": "stdout",
          "text": [
            "Enter a list of words (separated by spaces): apple apple banana cherry mango mango guava\n",
            "Word frequencies:\n",
            "{'apple': 2, 'banana': 1, 'cherry': 1, 'mango': 2, 'guava': 1}\n"
          ]
        }
      ]
    },
    {
      "cell_type": "markdown",
      "source": [
        "# 32. Write a code that takes two dictionaries as input and merges them into a single dictionary. If there are common keys, the values should be added together"
      ],
      "metadata": {
        "id": "tMhc9qyOm8EM"
      }
    },
    {
      "cell_type": "code",
      "source": [
        "def merge_dicts(dict1, dict2):\n",
        "    merged_dict = dict1.copy()  # Start with a copy of the first dictionary\n",
        "\n",
        "    for key, value in dict2.items():\n",
        "        if key in merged_dict:\n",
        "            merged_dict[key] += value\n",
        "        else:\n",
        "            merged_dict[key] = value\n",
        "\n",
        "    return merged_dict\n",
        "\n",
        "dict1 = eval(input(\"Enter the first dictionary (in the format {key1: value1, key2: value2, ...}): \"))\n",
        "dict2 = eval(input(\"Enter the second dictionary (in the format {key1: value1, key2: value2, ...}): \"))\n",
        "\n",
        "merged_dict = merge_dicts(dict1, dict2)\n",
        "\n",
        "print(\"Merged dictionary:\")\n",
        "print(merged_dict)\n"
      ],
      "metadata": {
        "colab": {
          "base_uri": "https://localhost:8080/"
        },
        "id": "4ekqzBvgmpzh",
        "outputId": "86b14953-d238-4d55-f74b-be815d5fc6f6"
      },
      "execution_count": 15,
      "outputs": [
        {
          "output_type": "stream",
          "name": "stdout",
          "text": [
            "Enter the first dictionary (in the format {key1: value1, key2: value2, ...}): { 'a' : 1 , 'b' :2}\n",
            "Enter the second dictionary (in the format {key1: value1, key2: value2, ...}): {'b' : 3 , 'c' : 4}\n",
            "Merged dictionary:\n",
            "{'a': 1, 'b': 5, 'c': 4}\n"
          ]
        }
      ]
    },
    {
      "cell_type": "markdown",
      "source": [
        "# 33. Write a code to access a value in a nested dictionary. The function should take the dictionary and a list of keys as input, and return the corresponding value. If any of the keys do not exist in the dictionary, the function should return None"
      ],
      "metadata": {
        "id": "qCQqNS11pCrO"
      }
    },
    {
      "cell_type": "code",
      "source": [
        "def get_nested_value(d, keys):\n",
        "    for key in keys:\n",
        "        if isinstance(d, dict) and key in d:\n",
        "            d = d[key]\n",
        "        else:\n",
        "            return None\n",
        "    return d\n",
        "\n",
        "nested_dict = {\n",
        "    'a': {\n",
        "        'b': {\n",
        "            'c': 77\n",
        "        }\n",
        "    }\n",
        "}\n",
        "\n",
        "keys = ['a', 'b', 'c']\n",
        "\n",
        "value = get_nested_value(nested_dict, keys)\n",
        "\n",
        "print(f\"The value at the nested keys {keys} is: {value}\")\n",
        "\n"
      ],
      "metadata": {
        "colab": {
          "base_uri": "https://localhost:8080/"
        },
        "id": "5o8ef9RSoXWj",
        "outputId": "44d49bd8-9af2-4c59-b819-ec51ab7c23f1"
      },
      "execution_count": 17,
      "outputs": [
        {
          "output_type": "stream",
          "name": "stdout",
          "text": [
            "The value at the nested keys ['a', 'b', 'c'] is: 77\n"
          ]
        }
      ]
    },
    {
      "cell_type": "markdown",
      "source": [
        "# 34. Write a code that takes a dictionary as input and returns a sorted version of it based on the values. You can choose whether to sort in ascending or descending order"
      ],
      "metadata": {
        "id": "T6niE831qiAx"
      }
    },
    {
      "cell_type": "code",
      "source": [
        "def sort_dict_by_value(d, descending=False):\n",
        "    sorted_dict = dict(sorted(d.items(), key=lambda item: item[1], reverse=descending))\n",
        "    return sorted_dict\n",
        "\n",
        "if __name__ == \"__main__\":\n",
        "    user_input = input(\"Enter a dictionary (in JSON format, e.g., {\\\"key1\\\": value1, \\\"key2\\\": value2}): \")\n",
        "\n",
        "    import json\n",
        "    try:\n",
        "        input_dict = json.loads(user_input)\n",
        "        if not isinstance(input_dict, dict):\n",
        "            raise ValueError(\"Input is not a valid dictionary.\")\n",
        "\n",
        "        sort_order = input(\"Sort in descending order? (yes/no): \").strip().lower()\n",
        "        descending = sort_order == 'yes'\n",
        "\n",
        "        sorted_dict = sort_dict_by_value(input_dict, descending)\n",
        "\n",
        "        print(\"Sorted dictionary:\")\n",
        "        print(sorted_dict)\n",
        "    except (json.JSONDecodeError, ValueError) as e:\n",
        "        print(f\"Error: {e}\")\n"
      ],
      "metadata": {
        "colab": {
          "base_uri": "https://localhost:8080/"
        },
        "id": "G3vOfRfFqdqh",
        "outputId": "cb520183-82ad-4d1a-ffe8-1ea62925a39a"
      },
      "execution_count": 18,
      "outputs": [
        {
          "output_type": "stream",
          "name": "stdout",
          "text": [
            "Enter a dictionary (in JSON format, e.g., {\"key1\": value1, \"key2\": value2}): {\"a\": 3, \"b\": 1, \"c\": 2}\n",
            "Sort in descending order? (yes/no): yes\n",
            "Sorted dictionary:\n",
            "{'a': 3, 'c': 2, 'b': 1}\n"
          ]
        }
      ]
    },
    {
      "cell_type": "markdown",
      "source": [
        "# 35.  Write a code that inverts a dictionary, swapping keys and values. Ensure that the inverted dictionary correctly handles cases where multiple keys have the same value by storing the keys as a list in the inverted dictionary."
      ],
      "metadata": {
        "id": "3aYoREMSs1fc"
      }
    },
    {
      "cell_type": "code",
      "source": [
        "def invert_dict(d):\n",
        "    inverted_dict = {}\n",
        "\n",
        "    for key, value in d.items():\n",
        "        if value in inverted_dict:\n",
        "            inverted_dict[value].append(key)\n",
        "        else:\n",
        "            inverted_dict[value] = [key]\n",
        "\n",
        "    return inverted_dict\n",
        "\n",
        "if __name__ == \"__main__\":\n",
        "    import json\n",
        "\n",
        "    user_input = input(\"Enter a dictionary (in JSON format, e.g., {\\\"key1\\\": value1, \\\"key2\\\": value2}): \")\n",
        "\n",
        "    try:\n",
        "        input_dict = json.loads(user_input)\n",
        "        if not isinstance(input_dict, dict):\n",
        "            raise ValueError(\"Input is not a valid dictionary.\")\n",
        "\n",
        "        inverted_dict = invert_dict(input_dict)\n",
        "\n",
        "        print(\"Inverted dictionary:\")\n",
        "        print(inverted_dict)\n",
        "    except (json.JSONDecodeError, ValueError) as e:\n",
        "        print(f\"Error: {e}\")\n"
      ],
      "metadata": {
        "colab": {
          "base_uri": "https://localhost:8080/"
        },
        "id": "8PiMyqECsXCu",
        "outputId": "19f3a64c-c60c-4900-885c-edb0dffd983f"
      },
      "execution_count": 19,
      "outputs": [
        {
          "output_type": "stream",
          "name": "stdout",
          "text": [
            "Enter a dictionary (in JSON format, e.g., {\"key1\": value1, \"key2\": value2}): {\"a\": 1, \"b\": 2, \"c\": 3}\n",
            "Inverted dictionary:\n",
            "{1: ['a'], 2: ['b'], 3: ['c']}\n"
          ]
        }
      ]
    },
    {
      "cell_type": "code",
      "source": [],
      "metadata": {
        "id": "qKv1xYVItdLy"
      },
      "execution_count": null,
      "outputs": []
    }
  ]
}